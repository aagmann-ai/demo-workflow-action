{
 "cells": [
  {
   "cell_type": "code",
   "execution_count": 1,
   "id": "30cf3cdf-a644-4da8-a114-ff2a212a9a10",
   "metadata": {},
   "outputs": [
    {
     "name": "stderr",
     "output_type": "stream",
     "text": [
      "03/18/2023 16:51:47 - WARNING - obsei -   \n",
      "By default `pip install obsei` will only install core dependencies.\n",
      "To install all required dependencies use `pip install obsei[all]`.\n",
      "Refer https://obsei.com/#install-obsei for more options.\n",
      "\n"
     ]
    }
   ],
   "source": [
    "from obsei.source.playstore_scrapper import PlayStoreScrapperConfig, PlayStoreScrapperSource"
   ]
  },
  {
   "cell_type": "code",
   "execution_count": 20,
   "id": "7747e017-ec51-48d5-ada1-399471688181",
   "metadata": {},
   "outputs": [],
   "source": [
    "# initialize play store source config\n",
    "source_config = PlayStoreScrapperConfig(\n",
    "   # Need two parameters package_name and country. \n",
    "   # `package_name` can be found at the end of the url of app in play store. \n",
    "   # For example - https://play.google.com/store/apps/details?id=com.google.android.gm&hl=en&gl=US\n",
    "   # `com.google.android.gm` is the package_name for xcode and `us` is country.\n",
    "   countries=[\"in\"],\n",
    "   package_name=\"com.chess\",\n",
    "   max_count=10000, # Number of reviews to fetch\n",
    "   # lookup_period=\"1h\" # Lookup period from current time, format: `<number><d|h|m>` (day|hour|minute)\n",
    ")\n",
    "\n",
    "# initialize play store reviews retriever\n",
    "source = PlayStoreScrapperSource()"
   ]
  },
  {
   "cell_type": "code",
   "execution_count": 21,
   "id": "29a4a5e9",
   "metadata": {
    "collapsed": false,
    "jupyter": {
     "outputs_hidden": false
    },
    "pycharm": {
     "name": "#%%\n"
    }
   },
   "outputs": [],
   "source": [
    "responses = source.lookup(source_config)"
   ]
  },
  {
   "cell_type": "code",
   "execution_count": 19,
   "id": "f6bb3621-9942-4c54-af67-9af5c5bd718d",
   "metadata": {},
   "outputs": [
    {
     "data": {
      "text/plain": [
       "100"
      ]
     },
     "execution_count": 19,
     "metadata": {},
     "output_type": "execute_result"
    }
   ],
   "source": [
    "len(responses)"
   ]
  },
  {
   "cell_type": "code",
   "execution_count": 12,
   "id": "23e26255-fa91-4ce3-91af-e9f0f595c322",
   "metadata": {},
   "outputs": [
    {
     "data": {
      "text/plain": [
       "'great experience'"
      ]
     },
     "execution_count": 12,
     "metadata": {},
     "output_type": "execute_result"
    }
   ],
   "source": [
    "responses[0].meta[\"content\"]"
   ]
  },
  {
   "cell_type": "markdown",
   "id": "afdc0938-c6b0-4c0c-932f-6bb6623ac5dd",
   "metadata": {},
   "source": [
    "## cluster responses"
   ]
  },
  {
   "cell_type": "code",
   "execution_count": 8,
   "id": "a4670410-9b18-4e18-89c3-faa985a7f9d4",
   "metadata": {},
   "outputs": [],
   "source": [
    "import gensim\n",
    "from gensim import corpora\n",
    "from gensim.models import LdaModel\n",
    "# from gensim.summarization import summarize"
   ]
  },
  {
   "cell_type": "code",
   "execution_count": 13,
   "id": "b8133ed3-6c50-4cba-aa85-1f0388562592",
   "metadata": {},
   "outputs": [
    {
     "name": "stderr",
     "output_type": "stream",
     "text": [
      "03/18/2023 16:59:29 - INFO - gensim.corpora.dictionary -   adding document #0 to Dictionary<0 unique tokens: []>\n",
      "03/18/2023 16:59:29 - INFO - gensim.corpora.dictionary -   built Dictionary<244 unique tokens: ['experience', 'great', 'abandoned', 'ages', 'definitely']...> from 100 documents (total 433 corpus positions)\n",
      "03/18/2023 16:59:29 - INFO - gensim.utils -   Dictionary lifecycle event {'msg': \"built Dictionary<244 unique tokens: ['experience', 'great', 'abandoned', 'ages', 'definitely']...> from 100 documents (total 433 corpus positions)\", 'datetime': '2023-03-18T16:59:29.065058', 'gensim': '4.3.1', 'python': '3.10.4 (main, Feb 27 2023, 16:55:46) [Clang 14.0.0 (clang-1400.0.29.202)]', 'platform': 'macOS-12.5-x86_64-i386-64bit', 'event': 'created'}\n",
      "03/18/2023 16:59:29 - INFO - gensim.models.ldamodel -   using symmetric alpha at 0.3333333333333333\n",
      "03/18/2023 16:59:29 - INFO - gensim.models.ldamodel -   using symmetric eta at 0.3333333333333333\n",
      "03/18/2023 16:59:29 - INFO - gensim.models.ldamodel -   using serial LDA version on this node\n",
      "03/18/2023 16:59:29 - INFO - gensim.models.ldamodel -   running online (multi-pass) LDA training, 3 topics, 10 passes over the supplied corpus of 100 documents, updating model once every 100 documents, evaluating perplexity every 100 documents, iterating 50x with a convergence threshold of 0.001000\n",
      "03/18/2023 16:59:29 - INFO - gensim.models.ldamodel -   -6.975 per-word bound, 125.8 perplexity estimate based on a held-out corpus of 100 documents with 433 words\n",
      "03/18/2023 16:59:29 - INFO - gensim.models.ldamodel -   PROGRESS: pass 0, at document #100/100\n",
      "03/18/2023 16:59:29 - INFO - gensim.models.ldamodel -   topic #0 (0.333): 0.035*\"game\" + 0.018*\"chess\" + 0.015*\"frustrating\" + 0.015*\"app\" + 0.013*\"fix\" + 0.013*\"stars\" + 0.012*\"network\" + 0.012*\"wifi\" + 0.011*\"losing\" + 0.011*\"happens\"\n",
      "03/18/2023 16:59:29 - INFO - gensim.models.ldamodel -   topic #1 (0.333): 0.067*\"game\" + 0.051*\"good\" + 0.045*\"chess\" + 0.029*\"love\" + 0.028*\"play\" + 0.025*\"app\" + 0.017*\"great\" + 0.016*\"like\" + 0.012*\"learn\" + 0.010*\"fun\"\n",
      "03/18/2023 16:59:29 - INFO - gensim.models.ldamodel -   topic #2 (0.333): 0.036*\"chess\" + 0.035*\"best\" + 0.025*\"app\" + 0.024*\"good\" + 0.017*\"membership\" + 0.017*\"great\" + 0.014*\"game\" + 0.012*\"love\" + 0.012*\"connection\" + 0.012*\"recommend\"\n",
      "03/18/2023 16:59:29 - INFO - gensim.models.ldamodel -   topic diff=1.440360, rho=1.000000\n",
      "03/18/2023 16:59:29 - INFO - gensim.models.ldamodel -   -5.796 per-word bound, 55.6 perplexity estimate based on a held-out corpus of 100 documents with 433 words\n",
      "03/18/2023 16:59:29 - INFO - gensim.models.ldamodel -   PROGRESS: pass 1, at document #100/100\n",
      "03/18/2023 16:59:29 - INFO - gensim.models.ldamodel -   topic #0 (0.333): 0.035*\"game\" + 0.018*\"chess\" + 0.017*\"frustrating\" + 0.013*\"app\" + 0.013*\"fix\" + 0.013*\"stars\" + 0.013*\"network\" + 0.013*\"wifi\" + 0.012*\"losing\" + 0.012*\"happens\"\n",
      "03/18/2023 16:59:29 - INFO - gensim.models.ldamodel -   topic #1 (0.333): 0.066*\"game\" + 0.055*\"good\" + 0.045*\"chess\" + 0.030*\"play\" + 0.029*\"love\" + 0.025*\"app\" + 0.018*\"great\" + 0.016*\"like\" + 0.014*\"learn\" + 0.010*\"fun\"\n",
      "03/18/2023 16:59:29 - INFO - gensim.models.ldamodel -   topic #2 (0.333): 0.039*\"best\" + 0.037*\"chess\" + 0.026*\"app\" + 0.019*\"good\" + 0.018*\"membership\" + 0.016*\"great\" + 0.014*\"game\" + 0.013*\"love\" + 0.013*\"recommend\" + 0.013*\"connection\"\n",
      "03/18/2023 16:59:29 - INFO - gensim.models.ldamodel -   topic diff=0.166123, rho=0.577350\n",
      "03/18/2023 16:59:29 - INFO - gensim.models.ldamodel -   -5.754 per-word bound, 54.0 perplexity estimate based on a held-out corpus of 100 documents with 433 words\n",
      "03/18/2023 16:59:29 - INFO - gensim.models.ldamodel -   PROGRESS: pass 2, at document #100/100\n",
      "03/18/2023 16:59:29 - INFO - gensim.models.ldamodel -   topic #0 (0.333): 0.035*\"game\" + 0.018*\"frustrating\" + 0.017*\"chess\" + 0.013*\"fix\" + 0.013*\"stars\" + 0.013*\"network\" + 0.013*\"wifi\" + 0.012*\"losing\" + 0.012*\"happens\" + 0.012*\"flaw\"\n",
      "03/18/2023 16:59:29 - INFO - gensim.models.ldamodel -   topic #1 (0.333): 0.065*\"game\" + 0.058*\"good\" + 0.045*\"chess\" + 0.030*\"play\" + 0.030*\"love\" + 0.026*\"app\" + 0.018*\"great\" + 0.016*\"like\" + 0.015*\"learn\" + 0.010*\"fun\"\n",
      "03/18/2023 16:59:29 - INFO - gensim.models.ldamodel -   topic #2 (0.333): 0.043*\"best\" + 0.036*\"chess\" + 0.027*\"app\" + 0.019*\"membership\" + 0.016*\"good\" + 0.015*\"great\" + 0.014*\"game\" + 0.013*\"amazing\" + 0.013*\"recommend\" + 0.013*\"love\"\n",
      "03/18/2023 16:59:29 - INFO - gensim.models.ldamodel -   topic diff=0.083592, rho=0.500000\n",
      "03/18/2023 16:59:29 - INFO - gensim.models.ldamodel -   -5.738 per-word bound, 53.4 perplexity estimate based on a held-out corpus of 100 documents with 433 words\n",
      "03/18/2023 16:59:29 - INFO - gensim.models.ldamodel -   PROGRESS: pass 3, at document #100/100\n",
      "03/18/2023 16:59:29 - INFO - gensim.models.ldamodel -   topic #0 (0.333): 0.035*\"game\" + 0.018*\"frustrating\" + 0.017*\"chess\" + 0.013*\"fix\" + 0.013*\"stars\" + 0.013*\"network\" + 0.013*\"wifi\" + 0.013*\"losing\" + 0.013*\"happens\" + 0.012*\"flaw\"\n",
      "03/18/2023 16:59:29 - INFO - gensim.models.ldamodel -   topic #1 (0.333): 0.065*\"game\" + 0.059*\"good\" + 0.045*\"chess\" + 0.031*\"play\" + 0.030*\"love\" + 0.027*\"app\" + 0.019*\"great\" + 0.016*\"like\" + 0.015*\"learn\" + 0.010*\"fun\"\n",
      "03/18/2023 16:59:29 - INFO - gensim.models.ldamodel -   topic #2 (0.333): 0.045*\"best\" + 0.036*\"chess\" + 0.027*\"app\" + 0.019*\"membership\" + 0.015*\"great\" + 0.014*\"game\" + 0.014*\"amazing\" + 0.014*\"recommend\" + 0.014*\"love\" + 0.013*\"good\"\n",
      "03/18/2023 16:59:29 - INFO - gensim.models.ldamodel -   topic diff=0.044710, rho=0.447214\n",
      "03/18/2023 16:59:29 - INFO - gensim.models.ldamodel -   -5.732 per-word bound, 53.2 perplexity estimate based on a held-out corpus of 100 documents with 433 words\n",
      "03/18/2023 16:59:29 - INFO - gensim.models.ldamodel -   PROGRESS: pass 4, at document #100/100\n",
      "03/18/2023 16:59:29 - INFO - gensim.models.ldamodel -   topic #0 (0.333): 0.035*\"game\" + 0.018*\"frustrating\" + 0.016*\"chess\" + 0.013*\"fix\" + 0.013*\"stars\" + 0.013*\"network\" + 0.013*\"wifi\" + 0.013*\"losing\" + 0.013*\"happens\" + 0.013*\"flaw\"\n",
      "03/18/2023 16:59:29 - INFO - gensim.models.ldamodel -   topic #1 (0.333): 0.065*\"game\" + 0.060*\"good\" + 0.046*\"chess\" + 0.031*\"play\" + 0.031*\"love\" + 0.027*\"app\" + 0.019*\"great\" + 0.016*\"like\" + 0.015*\"learn\" + 0.010*\"fun\"\n",
      "03/18/2023 16:59:29 - INFO - gensim.models.ldamodel -   topic #2 (0.333): 0.046*\"best\" + 0.036*\"chess\" + 0.027*\"app\" + 0.020*\"membership\" + 0.015*\"amazing\" + 0.015*\"great\" + 0.014*\"game\" + 0.014*\"recommend\" + 0.014*\"love\" + 0.014*\"player\"\n",
      "03/18/2023 16:59:29 - INFO - gensim.models.ldamodel -   topic diff=0.026117, rho=0.408248\n",
      "03/18/2023 16:59:29 - INFO - gensim.models.ldamodel -   -5.729 per-word bound, 53.1 perplexity estimate based on a held-out corpus of 100 documents with 433 words\n",
      "03/18/2023 16:59:29 - INFO - gensim.models.ldamodel -   PROGRESS: pass 5, at document #100/100\n",
      "03/18/2023 16:59:29 - INFO - gensim.models.ldamodel -   topic #0 (0.333): 0.036*\"game\" + 0.018*\"frustrating\" + 0.016*\"chess\" + 0.013*\"fix\" + 0.013*\"stars\" + 0.013*\"network\" + 0.013*\"wifi\" + 0.013*\"happens\" + 0.013*\"losing\" + 0.013*\"flaw\"\n",
      "03/18/2023 16:59:29 - INFO - gensim.models.ldamodel -   topic #1 (0.333): 0.064*\"game\" + 0.060*\"good\" + 0.046*\"chess\" + 0.031*\"play\" + 0.031*\"love\" + 0.028*\"app\" + 0.019*\"great\" + 0.016*\"like\" + 0.016*\"learn\" + 0.010*\"fun\"\n",
      "03/18/2023 16:59:29 - INFO - gensim.models.ldamodel -   topic #2 (0.333): 0.047*\"best\" + 0.036*\"chess\" + 0.028*\"app\" + 0.020*\"membership\" + 0.016*\"amazing\" + 0.015*\"great\" + 0.015*\"game\" + 0.014*\"recommend\" + 0.014*\"player\" + 0.014*\"love\"\n",
      "03/18/2023 16:59:29 - INFO - gensim.models.ldamodel -   topic diff=0.016405, rho=0.377964\n",
      "03/18/2023 16:59:29 - INFO - gensim.models.ldamodel -   -5.728 per-word bound, 53.0 perplexity estimate based on a held-out corpus of 100 documents with 433 words\n",
      "03/18/2023 16:59:29 - INFO - gensim.models.ldamodel -   PROGRESS: pass 6, at document #100/100\n",
      "03/18/2023 16:59:29 - INFO - gensim.models.ldamodel -   topic #0 (0.333): 0.036*\"game\" + 0.018*\"frustrating\" + 0.015*\"chess\" + 0.014*\"fix\" + 0.013*\"stars\" + 0.013*\"network\" + 0.013*\"wifi\" + 0.013*\"happens\" + 0.013*\"losing\" + 0.013*\"flaw\"\n",
      "03/18/2023 16:59:29 - INFO - gensim.models.ldamodel -   topic #1 (0.333): 0.064*\"game\" + 0.060*\"good\" + 0.046*\"chess\" + 0.031*\"play\" + 0.031*\"love\" + 0.028*\"app\" + 0.019*\"great\" + 0.016*\"like\" + 0.016*\"learn\" + 0.010*\"fun\"\n",
      "03/18/2023 16:59:29 - INFO - gensim.models.ldamodel -   topic #2 (0.333): 0.048*\"best\" + 0.036*\"chess\" + 0.028*\"app\" + 0.020*\"membership\" + 0.017*\"amazing\" + 0.015*\"great\" + 0.015*\"game\" + 0.014*\"recommend\" + 0.014*\"player\" + 0.014*\"love\"\n",
      "03/18/2023 16:59:29 - INFO - gensim.models.ldamodel -   topic diff=0.010961, rho=0.353553\n",
      "03/18/2023 16:59:29 - INFO - gensim.models.ldamodel -   -5.727 per-word bound, 52.9 perplexity estimate based on a held-out corpus of 100 documents with 433 words\n",
      "03/18/2023 16:59:29 - INFO - gensim.models.ldamodel -   PROGRESS: pass 7, at document #100/100\n",
      "03/18/2023 16:59:29 - INFO - gensim.models.ldamodel -   topic #0 (0.333): 0.036*\"game\" + 0.019*\"frustrating\" + 0.015*\"chess\" + 0.014*\"fix\" + 0.013*\"network\" + 0.013*\"stars\" + 0.013*\"wifi\" + 0.013*\"happens\" + 0.013*\"losing\" + 0.013*\"flaw\"\n",
      "03/18/2023 16:59:29 - INFO - gensim.models.ldamodel -   topic #1 (0.333): 0.064*\"game\" + 0.061*\"good\" + 0.046*\"chess\" + 0.031*\"play\" + 0.031*\"love\" + 0.029*\"app\" + 0.019*\"great\" + 0.016*\"like\" + 0.016*\"learn\" + 0.010*\"fun\"\n",
      "03/18/2023 16:59:29 - INFO - gensim.models.ldamodel -   topic #2 (0.333): 0.048*\"best\" + 0.036*\"chess\" + 0.028*\"app\" + 0.020*\"membership\" + 0.017*\"amazing\" + 0.015*\"game\" + 0.015*\"great\" + 0.014*\"recommend\" + 0.014*\"player\" + 0.014*\"love\"\n",
      "03/18/2023 16:59:29 - INFO - gensim.models.ldamodel -   topic diff=0.007715, rho=0.333333\n",
      "03/18/2023 16:59:29 - INFO - gensim.models.ldamodel -   -5.726 per-word bound, 52.9 perplexity estimate based on a held-out corpus of 100 documents with 433 words\n",
      "03/18/2023 16:59:29 - INFO - gensim.models.ldamodel -   PROGRESS: pass 8, at document #100/100\n",
      "03/18/2023 16:59:29 - INFO - gensim.models.ldamodel -   topic #0 (0.333): 0.036*\"game\" + 0.019*\"frustrating\" + 0.015*\"chess\" + 0.014*\"fix\" + 0.013*\"network\" + 0.013*\"wifi\" + 0.013*\"stars\" + 0.013*\"happens\" + 0.013*\"losing\" + 0.013*\"flaw\"\n",
      "03/18/2023 16:59:29 - INFO - gensim.models.ldamodel -   topic #1 (0.333): 0.064*\"game\" + 0.061*\"good\" + 0.046*\"chess\" + 0.031*\"play\" + 0.031*\"love\" + 0.029*\"app\" + 0.019*\"great\" + 0.016*\"like\" + 0.016*\"learn\" + 0.010*\"fun\"\n",
      "03/18/2023 16:59:29 - INFO - gensim.models.ldamodel -   topic #2 (0.333): 0.049*\"best\" + 0.036*\"chess\" + 0.028*\"app\" + 0.020*\"membership\" + 0.018*\"amazing\" + 0.015*\"game\" + 0.015*\"great\" + 0.014*\"recommend\" + 0.014*\"player\" + 0.014*\"love\"\n",
      "03/18/2023 16:59:29 - INFO - gensim.models.ldamodel -   topic diff=0.005679, rho=0.316228\n",
      "03/18/2023 16:59:29 - INFO - gensim.models.ldamodel -   -5.725 per-word bound, 52.9 perplexity estimate based on a held-out corpus of 100 documents with 433 words\n",
      "03/18/2023 16:59:29 - INFO - gensim.models.ldamodel -   PROGRESS: pass 9, at document #100/100\n",
      "03/18/2023 16:59:29 - INFO - gensim.models.ldamodel -   topic #0 (0.333): 0.036*\"game\" + 0.019*\"frustrating\" + 0.015*\"chess\" + 0.014*\"fix\" + 0.013*\"network\" + 0.013*\"wifi\" + 0.013*\"stars\" + 0.013*\"happens\" + 0.013*\"losing\" + 0.013*\"flaw\"\n",
      "03/18/2023 16:59:29 - INFO - gensim.models.ldamodel -   topic #1 (0.333): 0.064*\"game\" + 0.061*\"good\" + 0.046*\"chess\" + 0.031*\"play\" + 0.031*\"love\" + 0.029*\"app\" + 0.019*\"great\" + 0.016*\"like\" + 0.016*\"learn\" + 0.010*\"fun\"\n",
      "03/18/2023 16:59:29 - INFO - gensim.models.ldamodel -   topic #2 (0.333): 0.049*\"best\" + 0.036*\"chess\" + 0.028*\"app\" + 0.020*\"membership\" + 0.018*\"amazing\" + 0.015*\"game\" + 0.015*\"great\" + 0.014*\"recommend\" + 0.014*\"player\" + 0.014*\"love\"\n",
      "03/18/2023 16:59:29 - INFO - gensim.models.ldamodel -   topic diff=0.004336, rho=0.301511\n",
      "03/18/2023 16:59:29 - INFO - gensim.utils -   LdaModel lifecycle event {'msg': 'trained LdaModel<num_terms=244, num_topics=3, decay=0.5, chunksize=2000> in 0.50s', 'datetime': '2023-03-18T16:59:29.589550', 'gensim': '4.3.1', 'python': '3.10.4 (main, Feb 27 2023, 16:55:46) [Clang 14.0.0 (clang-1400.0.29.202)]', 'platform': 'macOS-12.5-x86_64-i386-64bit', 'event': 'created'}\n"
     ]
    }
   ],
   "source": [
    "# Preprocess the data by tokenizing and removing stop words\n",
    "texts = [[word for word in document.meta[\"content\"].lower().split() if word.isalpha() and word not in gensim.parsing.preprocessing.STOPWORDS] for document in responses]\n",
    "\n",
    "# Create a dictionary from the preprocessed texts\n",
    "dictionary = corpora.Dictionary(texts)\n",
    "\n",
    "# Convert the texts into a bag-of-words representation\n",
    "corpus = [dictionary.doc2bow(text) for text in texts]\n",
    "\n",
    "# Define the number of topics to extract\n",
    "num_topics = 3\n",
    "\n",
    "# Perform LDA topic modeling on the corpus\n",
    "lda_model = LdaModel(corpus, num_topics=num_topics, id2word=dictionary, passes=10)"
   ]
  },
  {
   "cell_type": "code",
   "execution_count": 14,
   "id": "ad9e45fa-cf39-43b8-8b93-36e23500abf8",
   "metadata": {},
   "outputs": [
    {
     "name": "stderr",
     "output_type": "stream",
     "text": [
      "03/18/2023 17:00:14 - INFO - gensim.models.ldamodel -   topic #0 (0.333): 0.036*\"game\" + 0.019*\"frustrating\" + 0.015*\"chess\" + 0.014*\"fix\" + 0.013*\"network\" + 0.013*\"wifi\" + 0.013*\"stars\" + 0.013*\"happens\" + 0.013*\"losing\" + 0.013*\"flaw\"\n",
      "03/18/2023 17:00:14 - INFO - gensim.models.ldamodel -   topic #1 (0.333): 0.064*\"game\" + 0.061*\"good\" + 0.046*\"chess\" + 0.031*\"play\" + 0.031*\"love\" + 0.029*\"app\" + 0.019*\"great\" + 0.016*\"like\" + 0.016*\"learn\" + 0.010*\"fun\"\n",
      "03/18/2023 17:00:14 - INFO - gensim.models.ldamodel -   topic #2 (0.333): 0.049*\"best\" + 0.036*\"chess\" + 0.028*\"app\" + 0.020*\"membership\" + 0.018*\"amazing\" + 0.015*\"game\" + 0.015*\"great\" + 0.014*\"recommend\" + 0.014*\"player\" + 0.014*\"love\"\n"
     ]
    },
    {
     "name": "stdout",
     "output_type": "stream",
     "text": [
      "Topics and their top words:\n",
      "Topic 1: 0.036*\"game\" + 0.019*\"frustrating\" + 0.015*\"chess\" + 0.014*\"fix\" + 0.013*\"network\" + 0.013*\"wifi\" + 0.013*\"stars\" + 0.013*\"happens\" + 0.013*\"losing\" + 0.013*\"flaw\"\n",
      "Topic 2: 0.064*\"game\" + 0.061*\"good\" + 0.046*\"chess\" + 0.031*\"play\" + 0.031*\"love\" + 0.029*\"app\" + 0.019*\"great\" + 0.016*\"like\" + 0.016*\"learn\" + 0.010*\"fun\"\n",
      "Topic 3: 0.049*\"best\" + 0.036*\"chess\" + 0.028*\"app\" + 0.020*\"membership\" + 0.018*\"amazing\" + 0.015*\"game\" + 0.015*\"great\" + 0.014*\"recommend\" + 0.014*\"player\" + 0.014*\"love\"\n"
     ]
    }
   ],
   "source": [
    "# Print the topics and their top words\n",
    "print(\"Topics and their top words:\")\n",
    "for idx, topic in lda_model.print_topics(num_topics=num_topics):\n",
    "    print(\"Topic {}: {}\".format(idx + 1, topic))\n",
    "\n",
    "    # Extract the top sentence for each topic\n",
    "    # top_sentence = \"\"\n",
    "    # top_sentence_score = -1\n",
    "    # for document in documents:\n",
    "    #     document_score = lda_model[dictionary.doc2bow(document.lower().split())][idx][1]\n",
    "    #     if document_score > top_sentence_score:\n",
    "    #         top_sentence = summarize(document)\n",
    "    #         top_sentence_score = document_score\n",
    "    # print(\"Top sentence: {}\\n\".format(top_sentence))"
   ]
  },
  {
   "cell_type": "code",
   "execution_count": null,
   "id": "eaf810a7-5355-46b9-8ccc-f1e550d32ea8",
   "metadata": {},
   "outputs": [],
   "source": []
  }
 ],
 "metadata": {
  "kernelspec": {
   "display_name": "obsei",
   "language": "python",
   "name": "obsei"
  },
  "language_info": {
   "codemirror_mode": {
    "name": "ipython",
    "version": 3
   },
   "file_extension": ".py",
   "mimetype": "text/x-python",
   "name": "python",
   "nbconvert_exporter": "python",
   "pygments_lexer": "ipython3",
   "version": "3.10.4"
  }
 },
 "nbformat": 4,
 "nbformat_minor": 5
}
